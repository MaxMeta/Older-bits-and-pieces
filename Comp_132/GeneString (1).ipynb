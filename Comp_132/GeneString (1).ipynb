{
 "cells": [
  {
   "cell_type": "code",
   "execution_count": 2,
   "metadata": {
    "collapsed": true
   },
   "outputs": [],
   "source": [
    "file = open(\"gene-sequence.txt\",'r')\n"
   ]
  },
  {
   "cell_type": "code",
   "execution_count": 3,
   "metadata": {
    "collapsed": false
   },
   "outputs": [
    {
     "name": "stdout",
     "output_type": "stream",
     "text": [
      ">FJ940752.1 Homo sapiens BRCA1 (BRCA1) gene, exon 18 and partial cds\n",
      "\n"
     ]
    }
   ],
   "source": [
    "print(file.readline())"
   ]
  },
  {
   "cell_type": "code",
   "execution_count": 4,
   "metadata": {
    "collapsed": false
   },
   "outputs": [
    {
     "name": "stdout",
     "output_type": "stream",
     "text": [
      "GGCTCTTTAGCTTCTTAGGACAGCACTTCCTGATTTTGTTTTCAACTTCTAATCCTTTGAGTGTTTTTCA\n",
      "\n"
     ]
    }
   ],
   "source": [
    "print(file.readline())"
   ]
  },
  {
   "cell_type": "code",
   "execution_count": 5,
   "metadata": {
    "collapsed": false
   },
   "outputs": [
    {
     "name": "stdout",
     "output_type": "stream",
     "text": [
      "TTCTGCAGATGCTGAGTTTGTGTGTGAACGGACACTGAAATATTTTCTAGGTGCGGGAGGAAAATGGGTA\n",
      "\n"
     ]
    }
   ],
   "source": [
    "print(file.readline())"
   ]
  },
  {
   "cell_type": "code",
   "execution_count": 6,
   "metadata": {
    "collapsed": false
   },
   "outputs": [
    {
     "name": "stdout",
     "output_type": "stream",
     "text": [
      "GTTAGCTATTTCTGTAAGTATAATACTATTTCTCCCCTCCTCCCTTTAACACCTCAGAATTGCATTTTTA\n",
      "CACCTAACGTTTAACACCTAAGGTTTTTGCTGATGCTGAGTCTGAGTTACCAAAAGGTCTTTAATTGTAA\n",
      "TACTAAACTACTTTTATCTTTAATATCACTTTGTTCAGATAAGCTGGTGATGCTGGGAAAATGGGTCTC\n",
      "\n",
      "\n"
     ]
    }
   ],
   "source": [
    "print(file.read())"
   ]
  },
  {
   "cell_type": "code",
   "execution_count": 7,
   "metadata": {
    "collapsed": false
   },
   "outputs": [
    {
     "name": "stdout",
     "output_type": "stream",
     "text": [
      "\n"
     ]
    }
   ],
   "source": [
    "print(file.read())"
   ]
  },
  {
   "cell_type": "code",
   "execution_count": 8,
   "metadata": {
    "collapsed": true
   },
   "outputs": [],
   "source": [
    "file.close()\n"
   ]
  },
  {
   "cell_type": "code",
   "execution_count": 9,
   "metadata": {
    "collapsed": true
   },
   "outputs": [],
   "source": [
    "file = open(\"gene-sequence.txt\",'r')"
   ]
  },
  {
   "cell_type": "code",
   "execution_count": 10,
   "metadata": {
    "collapsed": false
   },
   "outputs": [
    {
     "data": {
      "text/plain": [
       "'>FJ940752.1 Homo sapiens BRCA1 (BRCA1) gene, exon 18 and partial cds\\n'"
      ]
     },
     "execution_count": 10,
     "metadata": {},
     "output_type": "execute_result"
    }
   ],
   "source": [
    "file.readline()"
   ]
  },
  {
   "cell_type": "code",
   "execution_count": 11,
   "metadata": {
    "collapsed": true
   },
   "outputs": [],
   "source": [
    "gene = file.read()"
   ]
  },
  {
   "cell_type": "code",
   "execution_count": 12,
   "metadata": {
    "collapsed": false
   },
   "outputs": [
    {
     "name": "stdout",
     "output_type": "stream",
     "text": [
      "GGCTCTTTAGCTTCTTAGGACAGCACTTCCTGATTTTGTTTTCAACTTCTAATCCTTTGAGTGTTTTTCA\n",
      "TTCTGCAGATGCTGAGTTTGTGTGTGAACGGACACTGAAATATTTTCTAGGTGCGGGAGGAAAATGGGTA\n",
      "GTTAGCTATTTCTGTAAGTATAATACTATTTCTCCCCTCCTCCCTTTAACACCTCAGAATTGCATTTTTA\n",
      "CACCTAACGTTTAACACCTAAGGTTTTTGCTGATGCTGAGTCTGAGTTACCAAAAGGTCTTTAATTGTAA\n",
      "TACTAAACTACTTTTATCTTTAATATCACTTTGTTCAGATAAGCTGGTGATGCTGGGAAAATGGGTCTC\n",
      "\n",
      "\n"
     ]
    }
   ],
   "source": [
    "print(gene)"
   ]
  },
  {
   "cell_type": "code",
   "execution_count": 13,
   "metadata": {
    "collapsed": false
   },
   "outputs": [
    {
     "data": {
      "text/plain": [
       "['G',\n",
       " 'G',\n",
       " 'C',\n",
       " 'T',\n",
       " 'C',\n",
       " 'T',\n",
       " 'T',\n",
       " 'T',\n",
       " 'A',\n",
       " 'G',\n",
       " 'C',\n",
       " 'T',\n",
       " 'T',\n",
       " 'C',\n",
       " 'T',\n",
       " 'T',\n",
       " 'A',\n",
       " 'G',\n",
       " 'G',\n",
       " 'A',\n",
       " 'C',\n",
       " 'A',\n",
       " 'G',\n",
       " 'C',\n",
       " 'A',\n",
       " 'C',\n",
       " 'T',\n",
       " 'T',\n",
       " 'C',\n",
       " 'C',\n",
       " 'T',\n",
       " 'G',\n",
       " 'A',\n",
       " 'T',\n",
       " 'T',\n",
       " 'T',\n",
       " 'T',\n",
       " 'G',\n",
       " 'T',\n",
       " 'T',\n",
       " 'T',\n",
       " 'T',\n",
       " 'C',\n",
       " 'A',\n",
       " 'A',\n",
       " 'C',\n",
       " 'T',\n",
       " 'T',\n",
       " 'C',\n",
       " 'T',\n",
       " 'A',\n",
       " 'A',\n",
       " 'T',\n",
       " 'C',\n",
       " 'C',\n",
       " 'T',\n",
       " 'T',\n",
       " 'T',\n",
       " 'G',\n",
       " 'A',\n",
       " 'G',\n",
       " 'T',\n",
       " 'G',\n",
       " 'T',\n",
       " 'T',\n",
       " 'T',\n",
       " 'T',\n",
       " 'T',\n",
       " 'C',\n",
       " 'A',\n",
       " '\\n',\n",
       " 'T',\n",
       " 'T',\n",
       " 'C',\n",
       " 'T',\n",
       " 'G',\n",
       " 'C',\n",
       " 'A',\n",
       " 'G',\n",
       " 'A',\n",
       " 'T',\n",
       " 'G',\n",
       " 'C',\n",
       " 'T',\n",
       " 'G',\n",
       " 'A',\n",
       " 'G',\n",
       " 'T',\n",
       " 'T',\n",
       " 'T',\n",
       " 'G',\n",
       " 'T',\n",
       " 'G',\n",
       " 'T',\n",
       " 'G',\n",
       " 'T',\n",
       " 'G',\n",
       " 'A',\n",
       " 'A',\n",
       " 'C',\n",
       " 'G',\n",
       " 'G',\n",
       " 'A',\n",
       " 'C',\n",
       " 'A',\n",
       " 'C',\n",
       " 'T',\n",
       " 'G',\n",
       " 'A',\n",
       " 'A',\n",
       " 'A',\n",
       " 'T',\n",
       " 'A',\n",
       " 'T',\n",
       " 'T',\n",
       " 'T',\n",
       " 'T',\n",
       " 'C',\n",
       " 'T',\n",
       " 'A',\n",
       " 'G',\n",
       " 'G',\n",
       " 'T',\n",
       " 'G',\n",
       " 'C',\n",
       " 'G',\n",
       " 'G',\n",
       " 'G',\n",
       " 'A',\n",
       " 'G',\n",
       " 'G',\n",
       " 'A',\n",
       " 'A',\n",
       " 'A',\n",
       " 'A',\n",
       " 'T',\n",
       " 'G',\n",
       " 'G',\n",
       " 'G',\n",
       " 'T',\n",
       " 'A',\n",
       " '\\n',\n",
       " 'G',\n",
       " 'T',\n",
       " 'T',\n",
       " 'A',\n",
       " 'G',\n",
       " 'C',\n",
       " 'T',\n",
       " 'A',\n",
       " 'T',\n",
       " 'T',\n",
       " 'T',\n",
       " 'C',\n",
       " 'T',\n",
       " 'G',\n",
       " 'T',\n",
       " 'A',\n",
       " 'A',\n",
       " 'G',\n",
       " 'T',\n",
       " 'A',\n",
       " 'T',\n",
       " 'A',\n",
       " 'A',\n",
       " 'T',\n",
       " 'A',\n",
       " 'C',\n",
       " 'T',\n",
       " 'A',\n",
       " 'T',\n",
       " 'T',\n",
       " 'T',\n",
       " 'C',\n",
       " 'T',\n",
       " 'C',\n",
       " 'C',\n",
       " 'C',\n",
       " 'C',\n",
       " 'T',\n",
       " 'C',\n",
       " 'C',\n",
       " 'T',\n",
       " 'C',\n",
       " 'C',\n",
       " 'C',\n",
       " 'T',\n",
       " 'T',\n",
       " 'T',\n",
       " 'A',\n",
       " 'A',\n",
       " 'C',\n",
       " 'A',\n",
       " 'C',\n",
       " 'C',\n",
       " 'T',\n",
       " 'C',\n",
       " 'A',\n",
       " 'G',\n",
       " 'A',\n",
       " 'A',\n",
       " 'T',\n",
       " 'T',\n",
       " 'G',\n",
       " 'C',\n",
       " 'A',\n",
       " 'T',\n",
       " 'T',\n",
       " 'T',\n",
       " 'T',\n",
       " 'T',\n",
       " 'A',\n",
       " '\\n',\n",
       " 'C',\n",
       " 'A',\n",
       " 'C',\n",
       " 'C',\n",
       " 'T',\n",
       " 'A',\n",
       " 'A',\n",
       " 'C',\n",
       " 'G',\n",
       " 'T',\n",
       " 'T',\n",
       " 'T',\n",
       " 'A',\n",
       " 'A',\n",
       " 'C',\n",
       " 'A',\n",
       " 'C',\n",
       " 'C',\n",
       " 'T',\n",
       " 'A',\n",
       " 'A',\n",
       " 'G',\n",
       " 'G',\n",
       " 'T',\n",
       " 'T',\n",
       " 'T',\n",
       " 'T',\n",
       " 'T',\n",
       " 'G',\n",
       " 'C',\n",
       " 'T',\n",
       " 'G',\n",
       " 'A',\n",
       " 'T',\n",
       " 'G',\n",
       " 'C',\n",
       " 'T',\n",
       " 'G',\n",
       " 'A',\n",
       " 'G',\n",
       " 'T',\n",
       " 'C',\n",
       " 'T',\n",
       " 'G',\n",
       " 'A',\n",
       " 'G',\n",
       " 'T',\n",
       " 'T',\n",
       " 'A',\n",
       " 'C',\n",
       " 'C',\n",
       " 'A',\n",
       " 'A',\n",
       " 'A',\n",
       " 'A',\n",
       " 'G',\n",
       " 'G',\n",
       " 'T',\n",
       " 'C',\n",
       " 'T',\n",
       " 'T',\n",
       " 'T',\n",
       " 'A',\n",
       " 'A',\n",
       " 'T',\n",
       " 'T',\n",
       " 'G',\n",
       " 'T',\n",
       " 'A',\n",
       " 'A',\n",
       " '\\n',\n",
       " 'T',\n",
       " 'A',\n",
       " 'C',\n",
       " 'T',\n",
       " 'A',\n",
       " 'A',\n",
       " 'A',\n",
       " 'C',\n",
       " 'T',\n",
       " 'A',\n",
       " 'C',\n",
       " 'T',\n",
       " 'T',\n",
       " 'T',\n",
       " 'T',\n",
       " 'A',\n",
       " 'T',\n",
       " 'C',\n",
       " 'T',\n",
       " 'T',\n",
       " 'T',\n",
       " 'A',\n",
       " 'A',\n",
       " 'T',\n",
       " 'A',\n",
       " 'T',\n",
       " 'C',\n",
       " 'A',\n",
       " 'C',\n",
       " 'T',\n",
       " 'T',\n",
       " 'T',\n",
       " 'G',\n",
       " 'T',\n",
       " 'T',\n",
       " 'C',\n",
       " 'A',\n",
       " 'G',\n",
       " 'A',\n",
       " 'T',\n",
       " 'A',\n",
       " 'A',\n",
       " 'G',\n",
       " 'C',\n",
       " 'T',\n",
       " 'G',\n",
       " 'G',\n",
       " 'T',\n",
       " 'G',\n",
       " 'A',\n",
       " 'T',\n",
       " 'G',\n",
       " 'C',\n",
       " 'T',\n",
       " 'G',\n",
       " 'G',\n",
       " 'G',\n",
       " 'A',\n",
       " 'A',\n",
       " 'A',\n",
       " 'A',\n",
       " 'T',\n",
       " 'G',\n",
       " 'G',\n",
       " 'G',\n",
       " 'T',\n",
       " 'C',\n",
       " 'T',\n",
       " 'C',\n",
       " '\\n',\n",
       " '\\n']"
      ]
     },
     "execution_count": 13,
     "metadata": {},
     "output_type": "execute_result"
    }
   ],
   "source": [
    "list(gene)"
   ]
  },
  {
   "cell_type": "code",
   "execution_count": 14,
   "metadata": {
    "collapsed": true
   },
   "outputs": [],
   "source": [
    "g,c,t,a =0,0,0,0\n",
    "for m in list(gene):\n",
    "    if m=='G':\n",
    "        g+=1\n",
    "    elif m=='C':\n",
    "        c+=1\n",
    "    elif m=='T':\n",
    "        t+=1\n",
    "    elif m=='A':\n",
    "        a = a+1\n",
    "        \n",
    "    "
   ]
  },
  {
   "cell_type": "code",
   "execution_count": 15,
   "metadata": {
    "collapsed": false
   },
   "outputs": [
    {
     "name": "stdout",
     "output_type": "stream",
     "text": [
      "G: 66 C: 65 T: 132 A 86\n"
     ]
    }
   ],
   "source": [
    "print(\"G: {} C: {} T: {} A {}\".format(g,c,t,a))"
   ]
  },
  {
   "cell_type": "code",
   "execution_count": null,
   "metadata": {
    "collapsed": true
   },
   "outputs": [],
   "source": []
  },
  {
   "cell_type": "code",
   "execution_count": 16,
   "metadata": {
    "collapsed": false
   },
   "outputs": [
    {
     "name": "stdout",
     "output_type": "stream",
     "text": [
      "GC content:0.3753581661891118\n"
     ]
    }
   ],
   "source": [
    "print(\"GC content:\" + str((float)(g+c)/(g+c+t+a)))"
   ]
  },
  {
   "cell_type": "code",
   "execution_count": 17,
   "metadata": {
    "collapsed": false
   },
   "outputs": [
    {
     "data": {
      "text/plain": [
       "'CTCTTTAG'"
      ]
     },
     "execution_count": 17,
     "metadata": {},
     "output_type": "execute_result"
    }
   ],
   "source": [
    "gene[2:10]"
   ]
  },
  {
   "cell_type": "code",
   "execution_count": 18,
   "metadata": {
    "collapsed": false
   },
   "outputs": [
    {
     "data": {
      "text/plain": [
       "355"
      ]
     },
     "execution_count": 18,
     "metadata": {},
     "output_type": "execute_result"
    }
   ],
   "source": [
    "len(gene)"
   ]
  },
  {
   "cell_type": "code",
   "execution_count": null,
   "metadata": {
    "collapsed": true
   },
   "outputs": [],
   "source": []
  },
  {
   "cell_type": "code",
   "execution_count": 19,
   "metadata": {
    "collapsed": true
   },
   "outputs": [],
   "source": [
    "from Bio.SeqUtils import GC"
   ]
  },
  {
   "cell_type": "code",
   "execution_count": 20,
   "metadata": {
    "collapsed": false
   },
   "outputs": [
    {
     "data": {
      "text/plain": [
       "36.901408450704224"
      ]
     },
     "execution_count": 20,
     "metadata": {},
     "output_type": "execute_result"
    }
   ],
   "source": [
    "GC(gene)"
   ]
  },
  {
   "cell_type": "code",
   "execution_count": 21,
   "metadata": {
    "collapsed": true
   },
   "outputs": [],
   "source": [
    "from Bio.Alphabet import generic_dna\n",
    "from Bio.Seq import Seq\n",
    "\n",
    "\n",
    "ge = Seq(gene, generic_dna)"
   ]
  },
  {
   "cell_type": "code",
   "execution_count": 22,
   "metadata": {
    "collapsed": false
   },
   "outputs": [
    {
     "data": {
      "text/plain": [
       "Seq('GGCTCTTTAGCTTCTTAGGACAGCACTTCCTGATTTTGTTTTCAACTTCTAATC...C\n",
       "\n",
       "', DNAAlphabet())"
      ]
     },
     "execution_count": 22,
     "metadata": {},
     "output_type": "execute_result"
    }
   ],
   "source": [
    "ge"
   ]
  },
  {
   "cell_type": "code",
   "execution_count": 23,
   "metadata": {
    "collapsed": true
   },
   "outputs": [],
   "source": [
    "gem = ge.tomutable()"
   ]
  },
  {
   "cell_type": "code",
   "execution_count": 24,
   "metadata": {
    "collapsed": true
   },
   "outputs": [],
   "source": [
    "gem.reverse()"
   ]
  },
  {
   "cell_type": "code",
   "execution_count": 25,
   "metadata": {
    "collapsed": false
   },
   "outputs": [
    {
     "data": {
      "text/plain": [
       "MutableSeq('\n",
       "\n",
       "CTCTGGGTAAAAGGGTCGTAGTGGTCGAATAGACTTGTTTCACTATAATTTC...CGG', DNAAlphabet())"
      ]
     },
     "execution_count": 25,
     "metadata": {},
     "output_type": "execute_result"
    }
   ],
   "source": [
    "gem"
   ]
  },
  {
   "cell_type": "code",
   "execution_count": 26,
   "metadata": {
    "collapsed": false
   },
   "outputs": [
    {
     "data": {
      "text/plain": [
       "Seq('GGCTCTTTAGCTTCTTAGGACAGCACTTCCTGATTTTGTTTTCAACTTCTAATC...C\n",
       "\n",
       "', DNAAlphabet())"
      ]
     },
     "execution_count": 26,
     "metadata": {},
     "output_type": "execute_result"
    }
   ],
   "source": [
    "ge"
   ]
  },
  {
   "cell_type": "code",
   "execution_count": 27,
   "metadata": {
    "collapsed": false
   },
   "outputs": [
    {
     "data": {
      "text/plain": [
       "4"
      ]
     },
     "execution_count": 27,
     "metadata": {},
     "output_type": "execute_result"
    }
   ],
   "source": [
    "ge.find('CTT')"
   ]
  },
  {
   "cell_type": "code",
   "execution_count": 28,
   "metadata": {
    "collapsed": false
   },
   "outputs": [
    {
     "data": {
      "text/plain": [
       "-1"
      ]
     },
     "execution_count": 28,
     "metadata": {},
     "output_type": "execute_result"
    }
   ],
   "source": [
    "ge.find(\"CTCH\")"
   ]
  },
  {
   "cell_type": "code",
   "execution_count": 29,
   "metadata": {
    "collapsed": false
   },
   "outputs": [
    {
     "data": {
      "text/plain": [
       "86"
      ]
     },
     "execution_count": 29,
     "metadata": {},
     "output_type": "execute_result"
    }
   ],
   "source": [
    "ge.count('A')"
   ]
  },
  {
   "cell_type": "code",
   "execution_count": 30,
   "metadata": {
    "collapsed": false
   },
   "outputs": [
    {
     "data": {
      "text/plain": [
       "66"
      ]
     },
     "execution_count": 30,
     "metadata": {},
     "output_type": "execute_result"
    }
   ],
   "source": [
    "ge.count('G')"
   ]
  },
  {
   "cell_type": "code",
   "execution_count": 31,
   "metadata": {
    "collapsed": false
   },
   "outputs": [
    {
     "data": {
      "text/plain": [
       "Seq('CCGAGAAATCGAAGAATCCTGTCGTGAAGGACTAAAACAAAAGTTGAAGATTAG...G\n",
       "\n",
       "', DNAAlphabet())"
      ]
     },
     "execution_count": 31,
     "metadata": {},
     "output_type": "execute_result"
    }
   ],
   "source": [
    "ge.complement()"
   ]
  },
  {
   "cell_type": "code",
   "execution_count": 32,
   "metadata": {
    "collapsed": false
   },
   "outputs": [
    {
     "data": {
      "text/plain": [
       "Seq('GGCTCTTTAGCTTCTTAGGACAGCACTTCCTGATTTTGTTTTCAACTTCTAATC...C\n",
       "\n",
       "', DNAAlphabet())"
      ]
     },
     "execution_count": 32,
     "metadata": {},
     "output_type": "execute_result"
    }
   ],
   "source": [
    "ge"
   ]
  },
  {
   "cell_type": "code",
   "execution_count": 33,
   "metadata": {
    "collapsed": false
   },
   "outputs": [
    {
     "data": {
      "text/plain": [
       "Seq('\n",
       "\n",
       "GAGACCCATTTTCCCAGCATCACCAGCTTATCTGAACAAAGTGATATTAAAG...GCC', DNAAlphabet())"
      ]
     },
     "execution_count": 33,
     "metadata": {},
     "output_type": "execute_result"
    }
   ],
   "source": [
    "ge.reverse_complement()"
   ]
  },
  {
   "cell_type": "code",
   "execution_count": 34,
   "metadata": {
    "collapsed": true
   },
   "outputs": [],
   "source": [
    "rna = ge.transcribe()"
   ]
  },
  {
   "cell_type": "code",
   "execution_count": 35,
   "metadata": {
    "collapsed": false
   },
   "outputs": [
    {
     "data": {
      "text/plain": [
       "Seq('GGCUCUUUAGCUUCUUAGGACAGCACUUCCUGAUUUUGUUUUCAACUUCUAAUC...C\n",
       "\n",
       "', RNAAlphabet())"
      ]
     },
     "execution_count": 35,
     "metadata": {},
     "output_type": "execute_result"
    }
   ],
   "source": [
    "rna"
   ]
  },
  {
   "cell_type": "code",
   "execution_count": 36,
   "metadata": {
    "collapsed": false
   },
   "outputs": [
    {
     "data": {
      "text/plain": [
       "Seq('GGCTCTTTAGCTTCTTAGGACAGCACTTCCTGATTTTGTTTTCAACTTCTAATC...C\n",
       "\n",
       "', DNAAlphabet())"
      ]
     },
     "execution_count": 36,
     "metadata": {},
     "output_type": "execute_result"
    }
   ],
   "source": [
    "rna.back_transcribe()"
   ]
  },
  {
   "cell_type": "code",
   "execution_count": 37,
   "metadata": {
    "collapsed": false
   },
   "outputs": [
    {
     "data": {
      "text/plain": [
       "Seq('GGCTCTTTAGCTTCTTAGGACAGCACTTCCTGATTTTGTTTTCAACTTCTAATC...C\n",
       "\n",
       "', DNAAlphabet())"
      ]
     },
     "execution_count": 37,
     "metadata": {},
     "output_type": "execute_result"
    }
   ],
   "source": [
    "ge"
   ]
  },
  {
   "cell_type": "code",
   "execution_count": 38,
   "metadata": {
    "collapsed": false
   },
   "outputs": [
    {
     "data": {
      "text/plain": [
       "Seq('GGCUCUUUAGCUUCUUAGGACAGCACUUCCUGAUUUUGUUUUCAACUUCUAAUC...C\n",
       "\n",
       "', RNAAlphabet())"
      ]
     },
     "execution_count": 38,
     "metadata": {},
     "output_type": "execute_result"
    }
   ],
   "source": [
    "rna"
   ]
  },
  {
   "cell_type": "code",
   "execution_count": null,
   "metadata": {
    "collapsed": true
   },
   "outputs": [],
   "source": []
  }
 ],
 "metadata": {
  "kernelspec": {
   "display_name": "Python 3",
   "language": "python",
   "name": "python3"
  },
  "language_info": {
   "codemirror_mode": {
    "name": "ipython",
    "version": 3
   },
   "file_extension": ".py",
   "mimetype": "text/x-python",
   "name": "python",
   "nbconvert_exporter": "python",
   "pygments_lexer": "ipython3",
   "version": "3.6.0"
  }
 },
 "nbformat": 4,
 "nbformat_minor": 2
}
